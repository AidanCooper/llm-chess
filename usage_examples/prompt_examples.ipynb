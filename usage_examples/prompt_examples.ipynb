{
 "cells": [
  {
   "cell_type": "markdown",
   "id": "e501ed62",
   "metadata": {},
   "source": [
    "## Prompt Examples\n",
    "\n",
    "Minimal code examples for configuring prompts using different board/game state representations."
   ]
  },
  {
   "cell_type": "code",
   "execution_count": 1,
   "id": "20da15b2",
   "metadata": {},
   "outputs": [],
   "source": [
    "%load_ext autoreload\n",
    "%autoreload 2\n",
    "\n",
    "import chess\n",
    "\n",
    "from llm_chess.core.enums import MoveNotation\n",
    "from llm_chess.core.enums import APIResponseFormat\n",
    "from llm_chess.prompts.fen import FENPromptConfig\n",
    "from llm_chess.prompts.pgn import PGNPromptConfig\n",
    "from llm_chess.prompts.multi_turn import MultiTurnPromptConfig\n",
    "from llm_chess.prompts.text_board import TextBoardPromptConfig"
   ]
  },
  {
   "cell_type": "code",
   "execution_count": 2,
   "id": "24ab3422",
   "metadata": {},
   "outputs": [
    {
     "data": {
      "text/plain": [
       "Move.from_uci('f1b5')"
      ]
     },
     "execution_count": 2,
     "metadata": {},
     "output_type": "execute_result"
    }
   ],
   "source": [
    "# simple example board state to illustrate the prompts\n",
    "board = chess.Board()\n",
    "board.push_san(\"e4\")\n",
    "board.push_san(\"e5\")\n",
    "board.push_san(\"Nf3\")\n",
    "board.push_san(\"Nc6\")\n",
    "board.push_san(\"Bb5\")"
   ]
  },
  {
   "cell_type": "markdown",
   "id": "d3284a66",
   "metadata": {},
   "source": [
    "### 2D text board prompts"
   ]
  },
  {
   "cell_type": "code",
   "execution_count": 3,
   "id": "f6edb155",
   "metadata": {},
   "outputs": [
    {
     "name": "stdout",
     "output_type": "stream",
     "text": [
      "It is your turn as black. The current chess position is as follows:\n",
      "1 ♖ ♘ ♗ ♕ ♔ . . ♖\n",
      "2 ♙ ♙ ♙ ♙ . ♙ ♙ ♙\n",
      "3 . . . . . ♘ . .\n",
      "4 . . . . ♙ . . .\n",
      "5 . ♗ . . ♟ . . .\n",
      "6 . . ♞ . . . . .\n",
      "7 ♟ ♟ ♟ ♟ . ♟ ♟ ♟\n",
      "8 ♜ . ♝ ♛ ♚ ♝ ♞ ♜\n",
      "  a b c d e f g h\n",
      "\n",
      "Your legal moves are:\n",
      "g8e7, g8h6, g8f6, f8e7, f8d6, f8c5, f8b4, f8a3, e8e7, d8e7, d8f6, d8g5, d8h4, a8b8, c6b8, c6e7, c6a5, c6d4, c6b4, h7h6, g7g6, f7f6, d7d6, b7b6, a7a6, h7h5, g7g5, f7f5, d7d5, a7a5\n",
      "\n",
      "Using UCI notation, respond directly with the best move.\n"
     ]
    }
   ],
   "source": [
    "text_board_prompt_config = TextBoardPromptConfig(piece_symbols=True)\n",
    "print(text_board_prompt_config.build_prompt(board))"
   ]
  },
  {
   "cell_type": "code",
   "execution_count": 4,
   "id": "cda9f343",
   "metadata": {},
   "outputs": [
    {
     "name": "stdout",
     "output_type": "stream",
     "text": [
      "It is your turn as black. The current chess position is as follows:\n",
      "1 R N B Q K . . R\n",
      "2 P P P P . P P P\n",
      "3 . . . . . N . .\n",
      "4 . . . . P . . .\n",
      "5 . B . . p . . .\n",
      "6 . . n . . . . .\n",
      "7 p p p p . p p p\n",
      "8 r . b q k b n r\n",
      "  a b c d e f g h\n",
      "\n",
      "Pieces: R = rook, N = knight, B = bishop, Q = queen, K = king, P = pawn.\n",
      "Upper case letters denote white pieces, and lower case letters denote black pieces.\n",
      "\n",
      "Your legal moves are:\n",
      "Nge7, Nh6, Nf6, Be7, Bd6, Bc5, Bb4, Ba3, Ke7, Qe7, Qf6, Qg5, Qh4, Rb8, Nb8, Nce7, Na5, Nd4, Nb4, h6, g6, f6, d6, b6, a6, h5, g5, f5, d5, a5\n",
      "\n",
      "\n",
      "Using SAN notation, provide the best legal move as a JSON object with the key \"move\".\n",
      "Example JSON output:\n",
      "{\n",
      "    \"move\": \"e4\"\n",
      "}\n",
      "\n"
     ]
    }
   ],
   "source": [
    "text_board_prompt_config1 = TextBoardPromptConfig(\n",
    "    piece_symbols=False,\n",
    "    move_notation=MoveNotation.SAN,\n",
    "    api_response_format=APIResponseFormat.JSON,\n",
    ")\n",
    "print(text_board_prompt_config1.build_prompt(board))"
   ]
  },
  {
   "cell_type": "markdown",
   "id": "463ed312",
   "metadata": {},
   "source": [
    "### FEN board state prompt"
   ]
  },
  {
   "cell_type": "code",
   "execution_count": 5,
   "id": "fef8ea96",
   "metadata": {},
   "outputs": [
    {
     "name": "stdout",
     "output_type": "stream",
     "text": [
      "You are playing as black. The current board state in FEN format is as follows:\n",
      "r1bqkbnr/pppp1ppp/2n5/1B2p3/4P3/5N2/PPPP1PPP/RNBQK2R b KQkq - 3 3\n",
      "\n",
      "Your legal moves are:\n",
      "g8e7, g8h6, g8f6, f8e7, f8d6, f8c5, f8b4, f8a3, e8e7, d8e7, d8f6, d8g5, d8h4, a8b8, c6b8, c6e7, c6a5, c6d4, c6b4, h7h6, g7g6, f7f6, d7d6, b7b6, a7a6, h7h5, g7g5, f7f5, d7d5, a7a5\n",
      "\n",
      "Using UCI notation, respond directly with the best move.\n"
     ]
    }
   ],
   "source": [
    "fen_prompt_config = FENPromptConfig()\n",
    "print(fen_prompt_config.build_prompt(board))"
   ]
  },
  {
   "cell_type": "markdown",
   "id": "f43e9dda",
   "metadata": {},
   "source": [
    "### Multi-turn prompt\n",
    "\n",
    "Note: the `LLMPlayer` class is responsible for constructing the multi-turn conversation beyond the initial prompt shown below. In the subsequent multi-turn conversation, each conversation turn is the stated move, with no other context."
   ]
  },
  {
   "cell_type": "code",
   "execution_count": 6,
   "id": "0563d688",
   "metadata": {},
   "outputs": [
    {
     "name": "stdout",
     "output_type": "stream",
     "text": [
      "You are a chess engine, playing as black. Using SAN notation, respond directly with the best move. \n"
     ]
    }
   ],
   "source": [
    "multi_turn_prompt_config = MultiTurnPromptConfig()\n",
    "print(multi_turn_prompt_config.build_prompt(board))"
   ]
  },
  {
   "cell_type": "markdown",
   "id": "16debb11",
   "metadata": {},
   "source": [
    "### PGN notated prompt\n",
    "\n",
    "By default, the prompt primes the LLM to believe it's playing an elite-level game between two Super Grandmasters, and the Result header is dynamically updated to indicate a win for the LLM, whether it plays white or black. Both of these prompt implementation details encourage the LLM to play at its best (and not, for example, mimic a 1500 ELO casual player). These headers can be modified to other values if desired, when initialising the config."
   ]
  },
  {
   "cell_type": "code",
   "execution_count": 7,
   "id": "16458794",
   "metadata": {},
   "outputs": [
    {
     "name": "stdout",
     "output_type": "stream",
     "text": [
      "[Event \"World Championship\"]\n",
      "[Site \"Moscow\"]\n",
      "[Date \"2025.01.01\"]\n",
      "[Round \"1\"]\n",
      "[White \"Kasparov, Garry\"]\n",
      "[Black \"Carlsen, Magnus\"]\n",
      "[Result \"0-1\"]\n",
      "[WhiteElo \"2800\"]\n",
      "[BlackElo \"2800\"]\n",
      "\n",
      "1. e4 e5\n",
      "2. Nf3 Nc6\n",
      "3. Bb5\n"
     ]
    }
   ],
   "source": [
    "pgn_prompt_config = PGNPromptConfig()\n",
    "print(pgn_prompt_config.build_prompt(board))"
   ]
  },
  {
   "cell_type": "code",
   "execution_count": null,
   "id": "f04d7b1c",
   "metadata": {},
   "outputs": [],
   "source": []
  }
 ],
 "metadata": {
  "kernelspec": {
   "display_name": "venv",
   "language": "python",
   "name": "python3"
  },
  "language_info": {
   "codemirror_mode": {
    "name": "ipython",
    "version": 3
   },
   "file_extension": ".py",
   "mimetype": "text/x-python",
   "name": "python",
   "nbconvert_exporter": "python",
   "pygments_lexer": "ipython3",
   "version": "3.12.3"
  }
 },
 "nbformat": 4,
 "nbformat_minor": 5
}
