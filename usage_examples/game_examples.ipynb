{
 "cells": [
  {
   "cell_type": "markdown",
   "id": "5bee7d5c",
   "metadata": {},
   "source": [
    "## Game Examples\n",
    "\n",
    "Minimal code examples for conducting chess games between player classes."
   ]
  },
  {
   "cell_type": "code",
   "execution_count": null,
   "id": "ffc5de0e",
   "metadata": {},
   "outputs": [],
   "source": [
    "%load_ext autoreload\n",
    "%autoreload 2\n",
    "\n",
    "import chess\n",
    "\n",
    "from llm_chess.core.game_manager import GameManager\n",
    "from llm_chess.players.engine.stockfish import StockfishPlayer\n",
    "from llm_chess.players.llm.openai_instruct import GPT3p5TurboInstructPlayer"
   ]
  },
  {
   "cell_type": "markdown",
   "id": "e84bb1ec",
   "metadata": {},
   "source": [
    "### Game with 2D text board display via `TextDisplayer()`"
   ]
  },
  {
   "cell_type": "code",
   "execution_count": null,
   "id": "dff2b2a1",
   "metadata": {},
   "outputs": [
    {
     "name": "stdout",
     "output_type": "stream",
     "text": [
      "\n",
      "Final board position:\n",
      "8 . . . ♚ . . . .\n",
      "7 . . . . . . . ♟\n",
      "6 . . ♟ ♟ . ♟ ♟ .\n",
      "5 . . . . ♟ . . ♙\n",
      "4 . . . . ♙ . . .\n",
      "3 . . . . . . . .\n",
      "2 . . ♜ . . . . .\n",
      "1 . ♜ . . . . ♔ .\n",
      "  a b c d e f g h\n",
      "Game result: 0-1\n"
     ]
    }
   ],
   "source": [
    "from llm_chess.utils.displays import TextDisplayer\n",
    "\n",
    "gpt = GPT3p5TurboInstructPlayer()\n",
    "sf = StockfishPlayer(\"Stockfish\", elo=1700)\n",
    "\n",
    "manager = GameManager()\n",
    "board = chess.Board()\n",
    "\n",
    "board, result = manager.play_game(\n",
    "    white=sf,\n",
    "    black=gpt,\n",
    "    board=board,\n",
    "    displayer=TextDisplayer(),\n",
    ")\n",
    "print(f\"Game result: {result}\")"
   ]
  },
  {
   "cell_type": "markdown",
   "id": "f8f2de12",
   "metadata": {},
   "source": [
    "### Game with PGN notated display via `PromptDisplayer()`"
   ]
  },
  {
   "cell_type": "code",
   "execution_count": 3,
   "id": "402829bc",
   "metadata": {},
   "outputs": [
    {
     "name": "stdout",
     "output_type": "stream",
     "text": [
      "\n",
      "Final board position:\n",
      "[Event \"World Championship\"]\n",
      "[Site \"Moscow\"]\n",
      "[Date \"2025.01.01\"]\n",
      "[Round \"1\"]\n",
      "[White \"Kasparov, Garry\"]\n",
      "[Black \"Carlsen, Magnus\"]\n",
      "[Result \"1-0\"]\n",
      "[WhiteElo \"2800\"]\n",
      "[BlackElo \"2800\"]\n",
      "\n",
      "1. e4 e5\n",
      "2. Nc3 Nc6\n",
      "3. Bb5 a6\n",
      "4. Ba4 Nf6\n",
      "5. h3 Bc5\n",
      "6. Bb3 d6\n",
      "7. Nge2 O-O\n",
      "8. Ng3 Nd4\n",
      "9. d3 Nxb3\n",
      "10. axb3 Be6\n",
      "11. f4 exf4\n",
      "12. Nge2 Nh5\n",
      "13. b4 Qh4+\n",
      "14. g3 Nxg3\n",
      "15. Qd2 Nxh1+\n",
      "16. Kd1 Nf2+\n",
      "17. Ke1 Nxe4+\n",
      "18. Kd1 Nxd2\n",
      "19. Bxd2 Be3\n",
      "20. Ne4 Bxd2\n",
      "21. Kxd2 f3\n",
      "22. Rg1 fxe2\n",
      "23. Kxe2 Qxh3\n",
      "24. Rg5 Bg4+\n",
      "25. Kd2 Qg2+\n",
      "26. Kc1 Qf1+\n",
      "27. Kd2 Qe2+\n",
      "28. Kc3 Qe1+\n",
      "29. Kb3 Be6+\n",
      "30. Rd5 Bxd5+\n",
      "31. c4 Bxe4\n",
      "32. dxe4 Qxe4\n",
      "33. Ka2 Qxc4+\n",
      "34. Kb1 Rfe8\n",
      "35. Ka1 Re1# \n",
      "36.\n",
      "Game result: 0-1\n"
     ]
    }
   ],
   "source": [
    "from llm_chess.prompts.pgn import PGNPromptConfig\n",
    "from llm_chess.utils.displays import PromptDisplayer\n",
    "\n",
    "gpt = GPT3p5TurboInstructPlayer()\n",
    "sf = StockfishPlayer(\"Stockfish\", elo=1700)\n",
    "\n",
    "manager = GameManager()\n",
    "board = chess.Board()\n",
    "\n",
    "board, result = manager.play_game(\n",
    "    white=sf,\n",
    "    black=gpt,\n",
    "    board=board,\n",
    "    displayer=PromptDisplayer(PGNPromptConfig()),\n",
    ")\n",
    "print(f\"Game result: {result}\")"
   ]
  },
  {
   "cell_type": "code",
   "execution_count": null,
   "id": "67933cdb",
   "metadata": {},
   "outputs": [],
   "source": []
  }
 ],
 "metadata": {
  "kernelspec": {
   "display_name": "venv",
   "language": "python",
   "name": "python3"
  },
  "language_info": {
   "codemirror_mode": {
    "name": "ipython",
    "version": 3
   },
   "file_extension": ".py",
   "mimetype": "text/x-python",
   "name": "python",
   "nbconvert_exporter": "python",
   "pygments_lexer": "ipython3",
   "version": "3.12.3"
  }
 },
 "nbformat": 4,
 "nbformat_minor": 5
}
